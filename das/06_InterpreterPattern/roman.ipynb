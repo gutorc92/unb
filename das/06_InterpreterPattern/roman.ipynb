{
 "cells": [
  {
   "cell_type": "code",
   "execution_count": 1,
   "metadata": {
    "collapsed": true
   },
   "outputs": [],
   "source": [
    "class Context():\n",
    "\t_input = \"\"\n",
    "\t_output = 0\n",
    "\n",
    "\tdef __init__(self, input_context):\n",
    "\t\tself._input = input_context\n",
    "\n",
    "\tdef get_input(self):\n",
    "\t\treturn self._input\n",
    "\n",
    "\tdef set_input(self, _input):\n",
    "\t\tself._input = _input\n",
    "\n",
    "\tdef get_output(self):\n",
    "\t\treturn self._output\n",
    "\n",
    "\tdef set_output(self,_output):\n",
    "\t\tself._output = _output"
   ]
  },
  {
   "cell_type": "code",
   "execution_count": 2,
   "metadata": {
    "collapsed": true
   },
   "outputs": [],
   "source": [
    "from abc import ABCMeta, abstractmethod\n",
    "\n",
    "class Interpreter():\n",
    "\t__metaclass__ = ABCMeta\n",
    "\n",
    "\tdef to_interpret(self, context):\n",
    "\n",
    "\t\tif len(context.get_input()) == 0:\n",
    "\t\t\treturn\n",
    "\n",
    "\t\tif context.get_input().startswith(self.nine()):\n",
    "\t\t\tself.add_value_output(context, 9)\n",
    "\t\t\tself.consume_digits(context, 2)\n",
    "\t\telif context.get_input().startswith(self.four()):\n",
    "\t\t\tself.add_value_output(context, 4)\n",
    "\t\t\tself.consume_digits(context, 2)\n",
    "\t\telif context.get_input().startswith(self.five()):\n",
    "\t\t\tself.add_value_output(context, 5)\n",
    "\t\t\tself.consume_digits(context, 1)\n",
    "\n",
    "\t\twhile context.get_input().startswith(self.one()):\n",
    "\t\t\tself.add_value_output(context, 1)\n",
    "\t\t\tself.consume_digits(context, 1)\n",
    "\n",
    "\tdef consume_digits(self, context, digits):\n",
    "\t\tcontext.set_input(context.get_input()[digits:])\n",
    "\n",
    "\tdef add_value_output(self, context, number):\n",
    "\t\tcontext.set_output(context.get_output() + number * self.weight())\n",
    "\n",
    "\t@abstractmethod\n",
    "\tdef weight(self): pass\n",
    "\n",
    "\t@abstractmethod\n",
    "\tdef one(self): pass\n",
    "\n",
    "\t@abstractmethod\n",
    "\tdef four(self): pass\n",
    "\n",
    "\t@abstractmethod\n",
    "\tdef five(self): pass\n",
    "\n",
    "\t@abstractmethod\n",
    "\tdef nine(self): pass"
   ]
  },
  {
   "cell_type": "code",
   "execution_count": 3,
   "metadata": {
    "collapsed": true
   },
   "outputs": [],
   "source": [
    "class OneDigit(Interpreter):\n",
    "\n",
    "\tdef one(self):\n",
    "\t\treturn \"I\"\n",
    "\n",
    "\tdef four(self):\n",
    "\t\treturn \"IV\"\n",
    "\n",
    "\tdef five(self):\n",
    "\t\treturn \"V\"\n",
    "\n",
    "\tdef nine(self):\n",
    "\t\treturn \"IX\"\n",
    "\n",
    "\tdef weight(self):\n",
    "\t\treturn 1;"
   ]
  },
  {
   "cell_type": "code",
   "execution_count": 4,
   "metadata": {
    "collapsed": true
   },
   "outputs": [],
   "source": [
    "class TwoDigits(Interpreter):\n",
    "\n",
    "\tdef one(self):\n",
    "\t\treturn \"X\"\n",
    "\n",
    "\tdef four(self):\n",
    "\t\treturn \"XL\"\n",
    "\n",
    "\tdef five(self):\n",
    "\t\treturn \"L\"\n",
    "\n",
    "\tdef nine(self):\n",
    "\t\treturn \"XC\"\n",
    "\n",
    "\tdef weight(self):\n",
    "\t\treturn 10;"
   ]
  },
  {
   "cell_type": "code",
   "execution_count": 5,
   "metadata": {
    "collapsed": true
   },
   "outputs": [],
   "source": [
    "class ThreeDigits(Interpreter):\n",
    "\n",
    "\tdef one(self):\n",
    "\t\treturn \"C\"\n",
    "\n",
    "\tdef four(self):\n",
    "\t\treturn \"CD\"\n",
    "\n",
    "\tdef five(self):\n",
    "\t\treturn \"D\"\n",
    "\n",
    "\tdef nine(self):\n",
    "\t\treturn \"CM\"\n",
    "\n",
    "\tdef weight(self):\n",
    "\t\treturn 100;"
   ]
  },
  {
   "cell_type": "code",
   "execution_count": 6,
   "metadata": {
    "collapsed": true
   },
   "outputs": [],
   "source": [
    "class FourDigits(Interpreter):\n",
    "\n",
    "\tdef one(self):\n",
    "\t\treturn \"M\"\n",
    "\n",
    "\tdef four(self):\n",
    "\t\treturn \" \"\n",
    "\n",
    "\tdef five(self):\n",
    "\t\treturn \" \"\n",
    "\n",
    "\tdef nine(self):\n",
    "\t\treturn \" \"\n",
    "\n",
    "\tdef weight(self):\n",
    "\t\treturn 1000;"
   ]
  },
  {
   "cell_type": "code",
   "execution_count": 7,
   "metadata": {
    "collapsed": true
   },
   "outputs": [],
   "source": [
    "def roman(str):\n",
    "\n",
    "\tdigits = [FourDigits(),ThreeDigits(),TwoDigits(),OneDigit()]\n",
    "\n",
    "\tcontext = Context(str)\n",
    "\n",
    "\tfor d in digits:\n",
    "\t\td.to_interpret(context)\n",
    "\n",
    "\tprint (context.get_output())"
   ]
  },
  {
   "cell_type": "code",
   "execution_count": 9,
   "metadata": {
    "collapsed": false
   },
   "outputs": [
    {
     "name": "stdout",
     "output_type": "stream",
     "text": [
      "11\n"
     ]
    }
   ],
   "source": [
    "roman(\"XI\")"
   ]
  },
  {
   "cell_type": "code",
   "execution_count": null,
   "metadata": {
    "collapsed": true
   },
   "outputs": [],
   "source": []
  }
 ],
 "metadata": {
  "kernelspec": {
   "display_name": "Python 2",
   "language": "python",
   "name": "python2"
  },
  "language_info": {
   "codemirror_mode": {
    "name": "ipython",
    "version": 2
   },
   "file_extension": ".py",
   "mimetype": "text/x-python",
   "name": "python",
   "nbconvert_exporter": "python",
   "pygments_lexer": "ipython2",
   "version": "2.7.6"
  }
 },
 "nbformat": 4,
 "nbformat_minor": 1
}
