{
 "cells": [
  {
   "cell_type": "markdown",
   "metadata": {},
   "source": [
    "    # Private Class"
   ]
  },
  {
   "cell_type": "markdown",
   "metadata": {},
   "source": [
    "O exemplo abixo irá mostrar como usar uma private class no trabalho realizado na disciplina de DAS."
   ]
  },
  {
   "cell_type": "markdown",
   "metadata": {},
   "source": [
    "Bibliotecas necessárias para o funcionamento do exemplo"
   ]
  },
  {
   "cell_type": "code",
   "execution_count": 1,
   "metadata": {
    "collapsed": true
   },
   "outputs": [],
   "source": [
    "import numpy as np\n",
    "import caffe\n",
    "import os\n",
    "import sys\n",
    "import cv2\n",
    "import urllib2\n",
    "import urllib"
   ]
  },
  {
   "cell_type": "markdown",
   "metadata": {},
   "source": [
    "Diretórios para importar bibliotecas"
   ]
  },
  {
   "cell_type": "code",
   "execution_count": 2,
   "metadata": {
    "collapsed": true
   },
   "outputs": [],
   "source": [
    "dic_root = \"/home/gustavo/Documents/unb/das/trabalho1\"\n",
    "caffe_root = \"/home/gustavo/caffe\""
   ]
  },
  {
   "cell_type": "markdown",
   "metadata": {},
   "source": [
    "Classes necessárias para o reconhecimento de faces."
   ]
  },
  {
   "cell_type": "code",
   "execution_count": 3,
   "metadata": {
    "collapsed": true
   },
   "outputs": [],
   "source": [
    "class NetFace:\n",
    "\tdef __init__(self):\n",
    "\t\tpath = os.path.join(dic_root,\"haarcascade_frontalface_alt.xml\")\n",
    "\t\tself.classifier = cv2.CascadeClassifier(path)\n",
    "\tdef classifierImage(self,miniframe):\n",
    "\t\treturn self.classifier.detectMultiScale(miniframe)"
   ]
  },
  {
   "cell_type": "code",
   "execution_count": 4,
   "metadata": {
    "collapsed": true
   },
   "outputs": [],
   "source": [
    "class Face:\n",
    "\tdef __init__(self,net=NetFace()):\n",
    "\t\tself.net = net\n",
    "\t\n",
    "\tdef detect(self,frame):\n",
    "\t\theight, width, depth = frame.shape\n",
    "\n",
    "\t\t# create grayscale version\n",
    "\t\tgrayscale = cv2.cvtColor(frame, cv2.COLOR_BGR2GRAY)\n",
    "\t \n",
    "\t\t# equalize histogram\n",
    "\t\tcv2.equalizeHist(grayscale, grayscale)\n",
    "\n",
    "\t\t# detect objects\n",
    "\t\tDOWNSCALE = 4\n",
    "\t\tminisize = (frame.shape[1]/DOWNSCALE,frame.shape[0]/DOWNSCALE)\n",
    "\t\tminiframe = cv2.resize(frame, minisize)\n",
    "\t\tfaces = self.net.classifierImage(miniframe)\n",
    "\t\t#if len(faces)>0:\n",
    "\t\t\t# print 'face detected!'\n",
    "\t\t#\tfor i in faces:\n",
    "\t\t#\t\tx, y, w, h = [ v*DOWNSCALE for v in i ]\n",
    "\t\t#\t\tcv2.rectangle(frame, (x,y), (x+w,y+h), (0,255,0))\n",
    "\t\t#cv2.imshow('frame',frame)\n",
    "\t\t#cv2.waitKey(0)\n",
    "\t\t#print(\"Faces: \", len(faces))\n",
    "\t\treturn faces"
   ]
  },
  {
   "cell_type": "markdown",
   "metadata": {},
   "source": [
    "Private class usada para encapsular os atributos necessários para o reconhecimento de felinos e caninos."
   ]
  },
  {
   "cell_type": "code",
   "execution_count": 5,
   "metadata": {
    "collapsed": true
   },
   "outputs": [],
   "source": [
    "class NetData:\n",
    "\n",
    "\tdef __init__(self,net,transformer,labels):\n",
    "\t\tself.transformer = transformer\n",
    "\t\tself.labels = labels\n",
    "\t\tself.net = net\n",
    "\n",
    "\tdef get_transformer(self):\n",
    "\t\treturn self.transformer\n",
    "\n",
    "\tdef get_labels(self):\n",
    "\t\treturn self.labels\n",
    "\t\n",
    "\tdef get_net(self):\n",
    "\t\treturn self.net"
   ]
  },
  {
   "cell_type": "markdown",
   "metadata": {},
   "source": [
    "Classe que reconhece felinos e caninos utilizando a private class NetData"
   ]
  },
  {
   "cell_type": "code",
   "execution_count": 6,
   "metadata": {
    "collapsed": true
   },
   "outputs": [],
   "source": [
    "class Net:\n",
    "\n",
    "\tdef __init__(self,net,transformer,labels):\n",
    "\t\tself.netData = NetData(net,transformer,labels)\n",
    "\t\tself.loadsynset()\n",
    "\n",
    "\tdef loadsynset(self):\n",
    "\t\tf = open(\"synset_cats\",\"r\")\n",
    "\t\tself.cats = f.read().splitlines()\n",
    "\t\tf.close()\n",
    "\t\tf = open(\"synset_dogs\",\"r\")\n",
    "\t\tself.dogs = f.read().splitlines()\n",
    "\t\tf.close()\n",
    "\n",
    "\n",
    "\tdef predict_imageNet(self,image_filename):\n",
    "\t\timage = caffe.io.load_image(image_filename)\n",
    "\t\tself.netData.get_net().blobs['data'].data[...] = self.netData.get_transformer().preprocess('data', image)\n",
    "\n",
    "\t\t# perform classification\n",
    "\t\tself.netData.get_net().forward()\n",
    "\n",
    "\t\t# obtain the output probabilities\n",
    "\t\toutput_prob = self.netData.get_net().blobs['prob'].data[0]\n",
    "\n",
    "\t\t# sort top five predictions from softmax output\n",
    "\t\ttop_inds = output_prob.argsort()[::-1][:5]\n",
    "\n",
    "\n",
    "\t\tpredictions = zip(output_prob[top_inds], self.netData.get_labels()[top_inds])\n",
    "\n",
    "\t\treturn predictions\n",
    "\n",
    "\tdef result(self,img):\n",
    "\t\tpredictions = self.predict_imageNet(img)\n",
    "\t\ttotal_dogs = 0\n",
    "\t\ttotal_cats = 0\n",
    "\t\tfor per, cls in predictions:\n",
    "\t\t\tif cls.split()[0] in self.cats:\n",
    "\t\t\t\ttotal_cats += per\n",
    "\t\t\telif cls.split()[0] in self.dogs:\n",
    "\t\t\t\ttotal_dogs += per\t\t\n",
    "\t\treturn total_dogs*100,total_cats*100"
   ]
  },
  {
   "cell_type": "markdown",
   "metadata": {},
   "source": [
    "Classe para tratar as entradas do usuário"
   ]
  },
  {
   "cell_type": "code",
   "execution_count": 7,
   "metadata": {
    "collapsed": true
   },
   "outputs": [],
   "source": [
    "class Input:\n",
    "\n",
    "\tFACES = 1\n",
    "\tPREDICTION = 2\n",
    "\tdef __init__(self, load=None):\n",
    "\t\tself.img = None\n",
    "\t\tif(load): self.resolve(load)\n",
    "\n",
    "\tdef resolve(self,load):\n",
    "\t\tif(self.isFile(load)):\n",
    "\t\t\tself.fileResolver(load)\t\n",
    "\t\telif(self.isUrl(load)):\n",
    "\t\t\tself.urlResolver(load)\n",
    "\n",
    "\tdef isFile(self,load):\n",
    "\t\treturn os.path.isfile(load)\n",
    "\tdef isUrl(self,load):\n",
    "\t\ttry:\n",
    "\t\t\turllib2.urlopen(load)\n",
    "\t\t\treturn True\n",
    "\t\texcept urllib2.HTTPError, e:\n",
    "\t\t\treturn False\n",
    "\t\texcept urllib2.URLError, e:\n",
    "\t\t\treturn False\n",
    "\t\treturn False\n",
    "\t\t\t\n",
    "\tdef fileResolver(self,load):\n",
    "\t\tself.img = cv2.imread(load)\n",
    "\t\tself.load = load\n",
    "\n",
    "\tdef urlResolver(self,load):\n",
    "\t\timage = urllib.URLopener()\n",
    "\t\tpath = os.path.join(dic_root,\"0000001.jpg\")\n",
    "\t\timage.retrieve(load,path)\n",
    "\t\timage.close()\n",
    "\t\tself.fileResolver(path)\n",
    "\t\treturn None\n",
    "\t\n",
    "\tdef getImage(self,destination):\n",
    "\t\tif(destination == self.FACES):\n",
    "\t\t\treturn self.img\n",
    "\t\telse:\n",
    "\t\t\treturn self.load"
   ]
  },
  {
   "cell_type": "markdown",
   "metadata": {},
   "source": [
    "Classe para gerar a saída"
   ]
  },
  {
   "cell_type": "code",
   "execution_count": 8,
   "metadata": {
    "collapsed": true
   },
   "outputs": [],
   "source": [
    "class Output:\n",
    "\t\n",
    "\tdef outFaces(self,faces):\n",
    "\t\tif(len(faces) > 0):\n",
    "\t\t\tprint(\"Foram detectadas {0} faces\").format(str(len(faces)))\n",
    "\t\t\tprint(\"As coordendas das faces: \")\n",
    "\t\t\tfor face in faces:\n",
    "\t\t\t\tprint(face)\n",
    "\t\telse:\n",
    "\t\t\tprint(\"Nao foram encontradas faces\")\n",
    "\t\n",
    "\tdef outAnimals(self,dogs,cats):\n",
    "\t\tif(dogs > 0):\n",
    "\t\t\tprint(\"A probabilidade de haver caninos na imagem e de: {0}\").format(str(dogs))\n",
    "\t\telse:\n",
    "\t\t\tprint(\"Nao ha caninos na imagem\")\n",
    "\t\tif(cats > 0):\n",
    "\t\t\tprint(\"A probabilidade de haver felinos na imagem e de: {0}\").format(str(cats))\n",
    "\t\telse:\n",
    "\t\t\tprint(\"Nao ha felinos na imagem\")"
   ]
  },
  {
   "cell_type": "markdown",
   "metadata": {},
   "source": [
    "Funcão que recebe a entrada do usuário e faz os processamento necesários"
   ]
  },
  {
   "cell_type": "code",
   "execution_count": 15,
   "metadata": {
    "collapsed": false
   },
   "outputs": [],
   "source": [
    "def main(*argv):\n",
    "\tmu = np.load(os.path.join(caffe_root, 'python','caffe','imagenet','ilsvrc_2012_mean.npy'))\n",
    "\tmu = mu.mean(1).mean(1)  \n",
    "\n",
    "\tmodel_weights = os.path.join(caffe_root, 'models','bvlc_reference_caffenet','bvlc_reference_caffenet.caffemodel')\n",
    "\tmodel_def = os.path.join(caffe_root, 'models', 'bvlc_reference_caffenet','deploy.prototxt')\n",
    "\tnet = caffe.Net(model_def,model_weights,caffe.TEST)\n",
    "\n",
    "\ttransformer = caffe.io.Transformer({'data': net.blobs['data'].data.shape})\n",
    "\ttransformer.set_transpose('data', (2,0,1))\n",
    "\ttransformer.set_mean('data', mu)      \n",
    "\ttransformer.set_raw_scale('data', 255)      \n",
    "\ttransformer.set_channel_swap('data', (2,1,0)) \n",
    "\t\t\n",
    "\tlabels_file = os.path.join(caffe_root, 'data','ilsvrc12','synset_words.txt')\n",
    "\tlabels = np.loadtxt(labels_file, str, delimiter='\\t') \n",
    "\t\n",
    "\tf = Face()\n",
    "\tn = Net(net,transformer,labels)\n",
    "\to = Output()\n",
    "\t\t\n",
    "\tfor arg in argv:\n",
    "\t\tprint(arg)\n",
    "\t\td = Input(arg)\n",
    "\t\to.outFaces(f.detect(d.getImage(Input.FACES)))\n",
    "\t\tdogs,cats = n.result(d.getImage(Input.PREDICTION))\n",
    "\t\to.outAnimals(dogs,cats)"
   ]
  },
  {
   "cell_type": "markdown",
   "metadata": {},
   "source": [
    "Teste"
   ]
  },
  {
   "cell_type": "code",
   "execution_count": 16,
   "metadata": {
    "collapsed": false
   },
   "outputs": [
    {
     "name": "stdout",
     "output_type": "stream",
     "text": [
      "img/cat.jpg\n",
      "Nao foram encontradas faces\n",
      "Nao ha caninos na imagem\n",
      "A probabilidade de haver felinos na imagem e de: 67.4295768142\n"
     ]
    }
   ],
   "source": [
    "main(\"img/cat.jpg\")"
   ]
  },
  {
   "cell_type": "code",
   "execution_count": null,
   "metadata": {
    "collapsed": true
   },
   "outputs": [],
   "source": []
  }
 ],
 "metadata": {
  "kernelspec": {
   "display_name": "Python 2",
   "language": "python",
   "name": "python2"
  },
  "language_info": {
   "codemirror_mode": {
    "name": "ipython",
    "version": 2
   },
   "file_extension": ".py",
   "mimetype": "text/x-python",
   "name": "python",
   "nbconvert_exporter": "python",
   "pygments_lexer": "ipython2",
   "version": "2.7.6"
  }
 },
 "nbformat": 4,
 "nbformat_minor": 1
}
