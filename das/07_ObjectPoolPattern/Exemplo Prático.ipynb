{
 "cells": [
  {
   "cell_type": "code",
   "execution_count": 1,
   "metadata": {
    "collapsed": true
   },
   "outputs": [],
   "source": [
    "class Reusable:\n",
    "\n",
    "    __value = 0\n",
    "\n",
    "    def reset(self):\n",
    "        \"\"\" Put resource back into default setting. \"\"\"\n",
    "        self.__value = 0\n",
    "\n",
    "    def setValue(self, number):\n",
    "        self.__value = number\n",
    "\n",
    "    def getValue(self):\n",
    "        return self.__value"
   ]
  },
  {
   "cell_type": "code",
   "execution_count": 2,
   "metadata": {
    "collapsed": true
   },
   "outputs": [],
   "source": [
    "class ObjectPool:\n",
    "    \n",
    "    __instance = None\n",
    "    __reusables = list()\n",
    "\n",
    "    def __init__(self):\n",
    "        if ObjectPool.__instance != None:\n",
    "            raise NotImplemented(\"Classe Singleton\")\n",
    "\n",
    "    @staticmethod\n",
    "    def getInstance():\n",
    "        if ObjectPool.__instance == None:\n",
    "            ObjectPool.__instance = ObjectPool()\n",
    "\n",
    "        return ObjectPool.__instance\n",
    "\n",
    "    def getReusable(self):\n",
    "        if len(self.__reusables) > 0:\n",
    "            print \"Utilizando objeto(reusable) já existente\"\n",
    "            return self.__reusables.pop(0)\n",
    "        else:\n",
    "            print \"Instanciando novo reusable\"\n",
    "            return Reusable()\n",
    "\n",
    "    def returnReusable(self, reusable):\n",
    "        reusable.reset()\n",
    "        self.__reusables.append(reusable)"
   ]
  },
  {
   "cell_type": "code",
   "execution_count": 3,
   "metadata": {
    "collapsed": true
   },
   "outputs": [],
   "source": [
    "def main():\n",
    "    pool = ObjectPool.getInstance()\n",
    "\n",
    "    # These will be created\n",
    "    one = pool.getReusable()\n",
    "    two = pool.getReusable()\n",
    "\n",
    "    one.setValue(10)\n",
    "    two.setValue(20)\n",
    "\n",
    "    print \"%s = %d\" % (one, one.getValue())\n",
    "    print \"%s = %d\" % (two, two.getValue())\n",
    "\n",
    "    pool.returnReusable(one)\n",
    "    pool.returnReusable(two)\n",
    "\n",
    "    one = None\n",
    "    two = None\n",
    "\n",
    "    # These resources will be reused\n",
    "    one = pool.getReusable()\n",
    "    two = pool.getReusable()\n",
    "    print \"%s = %d\" % (one, one.getValue())\n",
    "    print \"%s = %d\" % (two, two.getValue())"
   ]
  },
  {
   "cell_type": "code",
   "execution_count": 4,
   "metadata": {
    "collapsed": false
   },
   "outputs": [
    {
     "name": "stdout",
     "output_type": "stream",
     "text": [
      "Instanciando novo reusable\n",
      "Instanciando novo reusable\n",
      "<__main__.Reusable instance at 0x7fbc180f1998> = 10\n",
      "<__main__.Reusable instance at 0x7fbc180f1a70> = 20\n",
      "Utilizando objeto(reusable) já existente\n",
      "Utilizando objeto(reusable) já existente\n",
      "<__main__.Reusable instance at 0x7fbc180f1998> = 0\n",
      "<__main__.Reusable instance at 0x7fbc180f1a70> = 0\n"
     ]
    }
   ],
   "source": [
    "if __name__ == \"__main__\":\n",
    "    main()"
   ]
  },
  {
   "cell_type": "code",
   "execution_count": null,
   "metadata": {
    "collapsed": true
   },
   "outputs": [],
   "source": []
  }
 ],
 "metadata": {
  "kernelspec": {
   "display_name": "Python 2",
   "language": "python",
   "name": "python2"
  },
  "language_info": {
   "codemirror_mode": {
    "name": "ipython",
    "version": 2
   },
   "file_extension": ".py",
   "mimetype": "text/x-python",
   "name": "python",
   "nbconvert_exporter": "python",
   "pygments_lexer": "ipython2",
   "version": "2.7.6"
  }
 },
 "nbformat": 4,
 "nbformat_minor": 1
}
