{
 "cells": [
  {
   "cell_type": "code",
   "execution_count": 1,
   "metadata": {
    "collapsed": true
   },
   "outputs": [],
   "source": [
    "import numpy as np\n",
    "import os\n",
    "import sys\n",
    "import cv2\n",
    "import urllib2\n",
    "import urllib"
   ]
  },
  {
   "cell_type": "code",
   "execution_count": 2,
   "metadata": {
    "collapsed": true
   },
   "outputs": [],
   "source": [
    "home_dir = os.getenv(\"HOME\")\n",
    "caffe_root = os.path.join(home_dir, 'caffe')\n",
    "sys.path.insert(0, os.path.join(caffe_root, 'python'))\n",
    "\n",
    "import caffe"
   ]
  },
  {
   "cell_type": "code",
   "execution_count": 3,
   "metadata": {
    "collapsed": true
   },
   "outputs": [],
   "source": [
    "class NetFace:\n",
    "    \n",
    "    def __init__(self):\n",
    "        path = \"haarcascade_frontalface_alt.xml\"\n",
    "        self.classifier = cv2.CascadeClassifier(path)\n",
    "    def classifierImage(self,miniframe):\n",
    "        return self.classifier.detectMultiScale(miniframe)"
   ]
  },
  {
   "cell_type": "code",
   "execution_count": 4,
   "metadata": {
    "collapsed": false
   },
   "outputs": [],
   "source": [
    "class Face:\n",
    "    \n",
    "    def __init__(self,net=NetFace()):\n",
    "        self.net = net\n",
    "\n",
    "    def detect(self,frame):\n",
    "        height, width, depth = frame.shape\n",
    "\n",
    "        # create grayscale version\n",
    "        grayscale = cv2.cvtColor(frame, cv2.COLOR_BGR2GRAY)\n",
    "\n",
    "        # equalize histogram\n",
    "        cv2.equalizeHist(grayscale, grayscale)\n",
    "\n",
    "        # detect objects\n",
    "        DOWNSCALE = 4\n",
    "        minisize = (frame.shape[1]/DOWNSCALE,frame.shape[0]/DOWNSCALE)\n",
    "        miniframe = cv2.resize(frame, minisize)\n",
    "        faces = self.net.classifierImage(miniframe)\n",
    "        \n",
    "        if len(faces)>0:\n",
    "            print 'Face detected!'\n",
    "\n",
    "            for i in faces:\n",
    "                x, y, w, h = [ v*DOWNSCALE for v in i ]\n",
    "                cv2.rectangle(frame, (x,y), (x+w,y+h), (0,255,0))\n",
    "                cv2.imshow('frame',frame)\n",
    "                \n",
    "                if cv2.waitKey(1) & 0xFF == ord('q'):\n",
    "                    break\n",
    "                \n",
    "                #print(\"Faces: \", len(faces))\n",
    "        \n",
    "        return faces"
   ]
  },
  {
   "cell_type": "code",
   "execution_count": 5,
   "metadata": {
    "collapsed": true
   },
   "outputs": [],
   "source": [
    "class Net:\n",
    "\n",
    "    def __init__(self):\n",
    "        self.create_net()\n",
    "        self.create_mu()\n",
    "        self.create_transformer()\n",
    "        self.create_labels()\n",
    "        self.loadsynset()\n",
    "\n",
    "    def create_transformer(self):\n",
    "        self.transformer = caffe.io.Transformer({'data': self.net.blobs['data'].data.shape})\n",
    "        self.transformer.set_transpose('data', (2,0,1))\n",
    "        self.transformer.set_mean('data', self.mu)      \n",
    "        self.transformer.set_raw_scale('data', 255)      \n",
    "        self.transformer.set_channel_swap('data', (2,1,0)) \n",
    "\n",
    "    def create_mu(self):\n",
    "        self.mu = np.load(os.path.join(caffe_root, 'python','caffe','imagenet','ilsvrc_2012_mean.npy'))\n",
    "        self.mu = self.mu.mean(1).mean(1)  \n",
    "\n",
    "    def create_net(self):\n",
    "        model_weights = os.path.join(caffe_root, 'models','bvlc_reference_caffenet','bvlc_reference_caffenet.caffemodel')\n",
    "        model_def = os.path.join(caffe_root, 'models', 'bvlc_reference_caffenet','deploy.prototxt')\n",
    "        self.net = caffe.Net(model_def,model_weights,caffe.TEST)\n",
    "\n",
    "    def create_labels(self):\n",
    "        labels_file = os.path.join(caffe_root, 'data','ilsvrc12','synset_words.txt')\n",
    "        self.labels = np.loadtxt(labels_file, str, delimiter='\\t') \n",
    "\n",
    "    def loadsynset(self):\n",
    "        f = open(\"synset_cats\",\"r\")\n",
    "        self.cats = f.read().splitlines()\n",
    "        f.close()\n",
    "        \n",
    "        f = open(\"synset_dogs\",\"r\")\n",
    "        self.dogs = f.read().splitlines()\n",
    "        f.close()\n",
    "\n",
    "    def predict_imageNet(self,image_filename):\n",
    "        image = caffe.io.load_image(image_filename)\n",
    "        self.net.blobs['data'].data[...] = self.transformer.preprocess('data', image)\n",
    "\n",
    "        # perform classification\n",
    "        self.net.forward()\n",
    "\n",
    "        # obtain the output probabilities\n",
    "        output_prob = self.net.blobs['prob'].data[0]\n",
    "\n",
    "        # sort top five predictions from softmax output\n",
    "        top_inds = output_prob.argsort()[::-1][:5]\n",
    "\n",
    "        predictions = zip(output_prob[top_inds], self.labels[top_inds])\n",
    "\n",
    "        return predictions\n",
    "\n",
    "    def result(self,img):\n",
    "        predictions = self.predict_imageNet(img)\n",
    "        total_dogs = 0\n",
    "        total_cats = 0\n",
    "        \n",
    "        for per, cls in predictions:\n",
    "            if cls.split()[0] in self.cats:\n",
    "                total_cats += per\n",
    "            \n",
    "            elif cls.split()[0] in self.dogs:\n",
    "                total_dogs += per\n",
    "            \n",
    "            return total_dogs*100,total_cats*100"
   ]
  },
  {
   "cell_type": "code",
   "execution_count": 6,
   "metadata": {
    "collapsed": true
   },
   "outputs": [],
   "source": [
    "class Input:\n",
    "\n",
    "    FACES = 1\n",
    "    PREDICTION = 2\n",
    "    \n",
    "    def __init__(self, load=None):\n",
    "        self.img = None\n",
    "        if(load): self.resolve(load)\n",
    "\n",
    "    def resolve(self,load):\n",
    "        if(self.isFile(load)):\n",
    "            self.fileResolver(load)\t\n",
    "        \n",
    "        elif(self.isUrl(load)):\n",
    "            self.urlResolver(load)\n",
    "\n",
    "    def isFile(self,load):\n",
    "        return os.path.isfile(load)\n",
    "    \n",
    "    def isUrl(self,load):\n",
    "        try:\n",
    "            urllib2.urlopen(load)\n",
    "            return True\n",
    "        \n",
    "        except urllib2.HTTPError, e:\n",
    "            return False\n",
    "\n",
    "        except urllib2.URLError, e:\n",
    "            return False\n",
    "\n",
    "        return False\n",
    "\n",
    "    def fileResolver(self,load):\n",
    "        self.img = cv2.imread(load)\n",
    "        self.load = load\n",
    "\n",
    "    def urlResolver(self,load):\n",
    "        image = urllib.URLopener()\n",
    "        path = os.path.join(\"Images\",\"001.jpg\")\n",
    "        image.retrieve(load,path)\n",
    "        image.close()\n",
    "        self.fileResolver(path)\n",
    "\n",
    "        return None\n",
    "\n",
    "    def getImage(self,destination):\n",
    "        if(destination == self.FACES):\n",
    "            return self.img\n",
    "\n",
    "        else:\n",
    "            return self.load"
   ]
  },
  {
   "cell_type": "code",
   "execution_count": 7,
   "metadata": {
    "collapsed": true
   },
   "outputs": [],
   "source": [
    "class Output:\n",
    "\n",
    "    def outFaces(self,faces):\n",
    "        if(len(faces) > 0):\n",
    "            print(\"Foram detectadas {0} faces\").format(str(len(faces)))\n",
    "            print(\"As coordendas das faces: \")\n",
    "\n",
    "            for face in faces:\n",
    "                print(face)\n",
    "        \n",
    "        else:\n",
    "            print(\"Nao foram encontradas faces\")\n",
    "\n",
    "        \n",
    "    def outAnimals(self,dogs,cats):\n",
    "        if(dogs > 0):\n",
    "            print(\"A probabilidade de haver caninos na imagem e de: {0}\").format(str(dogs))\n",
    "\n",
    "        else:\n",
    "            print(\"Nao ha caninos na imagem\")\n",
    "\n",
    "        if(cats > 0):\n",
    "            print(\"A probabilidade de haver felinos na imagem e de: {0}\").format(str(cats))\n",
    "\n",
    "        else:\n",
    "            print(\"Nao ha felinos na imagem\")"
   ]
  },
  {
   "cell_type": "code",
   "execution_count": 8,
   "metadata": {
    "collapsed": true
   },
   "outputs": [],
   "source": [
    "def main(argv=sys.argv):\n",
    "    f = Face()\n",
    "    n = Net()\n",
    "    o = Output()\n",
    "    \n",
    "    if(len(argv) >= 2):\n",
    "        argv.pop(0)\n",
    "\n",
    "        for arg in argv:\n",
    "            print(arg)\n",
    "            d = Input(arg)\n",
    "            o.outFaces(f.detect(d.getImage(Input.FACES)))\n",
    "            dogs,cats = n.result(d.getImage(Input.PREDICTION))\n",
    "            o.outAnimals(dogs, cats)\n"
   ]
  },
  {
   "cell_type": "code",
   "execution_count": 9,
   "metadata": {
    "collapsed": false
   },
   "outputs": [],
   "source": [
    "img_dir = 'Images'\n",
    "images = os.listdir(img_dir)"
   ]
  },
  {
   "cell_type": "code",
   "execution_count": 10,
   "metadata": {
    "collapsed": false
   },
   "outputs": [
    {
     "name": "stdout",
     "output_type": "stream",
     "text": [
      "Images/004.jpg\n",
      "Nao foram encontradas faces\n",
      "Nao ha caninos na imagem\n",
      "A probabilidade de haver felinos na imagem e de: 31.2447071075\n",
      "\n",
      "\n",
      "Images/002.jpg\n",
      "Face detected!\n",
      "Foram detectadas 3 faces\n",
      "As coordendas das faces: \n",
      "[129  22  31  31]\n",
      "[85 94 45 45]\n",
      "[138  97  64  64]\n",
      "Nao ha caninos na imagem\n",
      "Nao ha felinos na imagem\n",
      "\n",
      "\n",
      "Images/003.jpg\n",
      "Nao foram encontradas faces\n",
      "Nao ha caninos na imagem\n",
      "Nao ha felinos na imagem\n",
      "\n",
      "\n",
      "Images/001.jpg\n",
      "Face detected!\n",
      "Foram detectadas 1 faces\n",
      "As coordendas das faces: \n",
      "[79 28 33 33]\n",
      "Nao ha caninos na imagem\n",
      "Nao ha felinos na imagem\n",
      "\n",
      "\n"
     ]
    }
   ],
   "source": [
    "for img_file in images:\n",
    "    main([\" \", os.path.join(img_dir, img_file)])\n",
    "    print \"\\n\""
   ]
  },
  {
   "cell_type": "code",
   "execution_count": null,
   "metadata": {
    "collapsed": true
   },
   "outputs": [],
   "source": []
  }
 ],
 "metadata": {
  "kernelspec": {
   "display_name": "Python 2",
   "language": "python",
   "name": "python2"
  },
  "language_info": {
   "codemirror_mode": {
    "name": "ipython",
    "version": 2
   },
   "file_extension": ".py",
   "mimetype": "text/x-python",
   "name": "python",
   "nbconvert_exporter": "python",
   "pygments_lexer": "ipython2",
   "version": "2.7.12"
  }
 },
 "nbformat": 4,
 "nbformat_minor": 1
}
