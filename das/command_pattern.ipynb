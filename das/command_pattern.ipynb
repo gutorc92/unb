{
 "cells": [
  {
   "cell_type": "code",
   "execution_count": 1,
   "metadata": {
    "collapsed": false
   },
   "outputs": [
    {
     "name": "stdout",
     "output_type": "stream",
     "text": [
      "O portão abriu!\n",
      "O portão fechou!\n",
      "-------\n",
      "O portão fechou!\n",
      "O portão abriu!\n"
     ]
    }
   ],
   "source": [
    "ABERTO = 0;\n",
    "FECHADO = 1;\n",
    "\n",
    "class Command(object): #interface Command\n",
    "    def execute(self):\n",
    "        pass\n",
    "    def undo(self):\n",
    "        pass\n",
    "\n",
    "class Portao(object): # Receiver\n",
    "    def abrir(self):\n",
    "        self.estado = ABERTO\n",
    "        print (\"O portão abriu!\")\n",
    "\n",
    "    def fechar(self):\n",
    "        self.estado = FECHADO\n",
    "        print (\"O portão fechou!\")\n",
    "\n",
    "class AbrirCommand(Command): # ConcreteCommand\n",
    "    portao = None\n",
    "\n",
    "    def __init__(self, portao):\n",
    "        self.portao = portao\n",
    "\n",
    "    def execute(self):\n",
    "        portao.abrir()\n",
    "\n",
    "    def undo(self):\n",
    "        portao.fechar()\n",
    "\n",
    "class FecharCommand(Command): # ConcreteCommand\n",
    "    portao = None\n",
    "\n",
    "    def __init__(self, portao):\n",
    "        self.portao = portao\n",
    "\n",
    "    def execute(self):\n",
    "        portao.fechar()\n",
    "\n",
    "    def undo(self):\n",
    "        portao.abrir()\n",
    "\n",
    "class Controle(Command): # Invoker\n",
    "    ultimoCommands = None\n",
    "    commands = []\n",
    "\n",
    "    def __init__(self, abrirCommand, fecharCommand):\n",
    "        self.commands.append(abrirCommand)\n",
    "        self.commands.append(fecharCommand)\n",
    "\n",
    "    def abrirPortao(self):\n",
    "        self.commands[0].execute()\n",
    "        self.ultimoCommands = self.commands[0]\n",
    "\n",
    "    def fecharPortao(self):\n",
    "        self.commands[1].execute()\n",
    "        self.ultimoCommands = self.commands[1]\n",
    "\n",
    "    def desfazer(self):\n",
    "        self.ultimoCommands.undo()\n",
    "\n",
    "if __name__ == '__main__': # Client\n",
    "    portao = Portao()\n",
    "\n",
    "    abrirCommand = AbrirCommand(portao)\n",
    "    fecharCommand = FecharCommand(portao)\n",
    "\n",
    "    controle = Controle(abrirCommand, fecharCommand)\n",
    "\n",
    "    controle.abrirPortao()\n",
    "    controle.desfazer()\n",
    "    \n",
    "    print (\"-------\")\n",
    "    \n",
    "    controle.fecharPortao()\n",
    "    controle.desfazer()"
   ]
  },
  {
   "cell_type": "code",
   "execution_count": null,
   "metadata": {
    "collapsed": true
   },
   "outputs": [],
   "source": []
  }
 ],
 "metadata": {
  "anaconda-cloud": {},
  "kernelspec": {
   "display_name": "Python 2",
   "language": "python",
   "name": "python2"
  },
  "language_info": {
   "codemirror_mode": {
    "name": "ipython",
    "version": 2
   },
   "file_extension": ".py",
   "mimetype": "text/x-python",
   "name": "python",
   "nbconvert_exporter": "python",
   "pygments_lexer": "ipython2",
   "version": "2.7.12"
  }
 },
 "nbformat": 4,
 "nbformat_minor": 1
}
